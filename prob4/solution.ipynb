{
 "cells": [
  {
   "cell_type": "code",
   "execution_count": 1,
   "metadata": {},
   "outputs": [],
   "source": [
    "import numpy as np"
   ]
  },
  {
   "cell_type": "code",
   "execution_count": 26,
   "metadata": {},
   "outputs": [],
   "source": [
    "def crivo_inc(primos):\n",
    "    # primos[-1] pega o último primo da lista\n",
    "    p_teste=primos[-1]+1\n",
    "    # usa false para entrar no while\n",
    "    p_primo=False\n",
    "    while not p_primo:\n",
    "        # supoe que o valor testado é primo \n",
    "        p_primo=True\n",
    "        for p in primos:\n",
    "            if p_teste%p==0:\n",
    "                # se nao for primo troca para false para rodar novamente\n",
    "                p_primo=False\n",
    "                # e testa o proximo numero natural\n",
    "                p_teste=p_teste+1\n",
    "                break  \n",
    "    # acrescente o proximo primo na lista\n",
    "    primos=np.append(primos, p_teste)\n",
    "    return primos\n",
    "\n",
    "def primes_below(n):\n",
    "    primes = np.array([2], dtype=np.int64)\n",
    "    while primes[-1] < n:\n",
    "        primes = crivo_inc(primes)\n",
    "    return primes\n",
    "\n",
    "def factorize(n):\n",
    "    primes = primes_below(np.sqrt(n)+1)\n",
    "    factors = np.array([], dtype=np.int64)\n",
    "    count = np.array([], dtype=np.int64)\n",
    "    for p in primes:\n",
    "        if n%p == 0:\n",
    "            factors = np.append(factors, p)\n",
    "            k = 0\n",
    "            while n%p == 0:\n",
    "                n = n // p\n",
    "                k += 1\n",
    "            count = np.append(count, k)\n",
    "    if n != 1:\n",
    "        factors = np.append(factors, n)\n",
    "        count = np.append(count, 1)\n",
    "    return factors, count"
   ]
  },
  {
   "cell_type": "code",
   "execution_count": 29,
   "metadata": {},
   "outputs": [
    {
     "data": {
      "text/plain": [
       "(array([  11, 9091]), array([1, 1]))"
      ]
     },
     "execution_count": 29,
     "metadata": {},
     "output_type": "execute_result"
    }
   ],
   "source": [
    "factorize(100001)"
   ]
  },
  {
   "cell_type": "code",
   "execution_count": null,
   "metadata": {},
   "outputs": [],
   "source": []
  }
 ],
 "metadata": {
  "kernelspec": {
   "display_name": "Python 3.8.10 64-bit",
   "language": "python",
   "name": "python3"
  },
  "language_info": {
   "codemirror_mode": {
    "name": "ipython",
    "version": 3
   },
   "file_extension": ".py",
   "mimetype": "text/x-python",
   "name": "python",
   "nbconvert_exporter": "python",
   "pygments_lexer": "ipython3",
   "version": "3.8.10"
  },
  "orig_nbformat": 4,
  "vscode": {
   "interpreter": {
    "hash": "31f2aee4e71d21fbe5cf8b01ff0e069b9275f58929596ceb00d14d90e3e16cd6"
   }
  }
 },
 "nbformat": 4,
 "nbformat_minor": 2
}
