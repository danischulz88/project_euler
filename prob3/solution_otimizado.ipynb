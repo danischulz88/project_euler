{
 "cells": [
  {
   "cell_type": "code",
   "execution_count": 1,
   "metadata": {},
   "outputs": [],
   "source": [
    "import numpy as np"
   ]
  },
  {
   "cell_type": "markdown",
   "metadata": {},
   "source": [
    "# Crivo"
   ]
  },
  {
   "cell_type": "code",
   "execution_count": 2,
   "metadata": {},
   "outputs": [],
   "source": [
    "def crivo2(primos):\n",
    "    # primos[-1] pega o último primo da lista\n",
    "    p_teste=primos[-1]+1\n",
    "    # usa false para entrar no while\n",
    "    p_primo=False\n",
    "    while not p_primo:\n",
    "        # supoe que o valor testado é primo \n",
    "        p_primo=True\n",
    "        for p in primos:\n",
    "            if p_teste%p==0:\n",
    "                # se nao for primo troca para false para rodar novamente\n",
    "                p_primo=False\n",
    "                # e testa o proximo numero natural\n",
    "                p_teste=p_teste+1\n",
    "                break  \n",
    "    # acrescente o proximo primo na lista\n",
    "    primos=np.append(primos, p_teste)\n",
    "    return primos"
   ]
  },
  {
   "cell_type": "code",
   "execution_count": 3,
   "metadata": {},
   "outputs": [],
   "source": [
    "primos=np.array([2], dtype=np.int64)"
   ]
  },
  {
   "cell_type": "code",
   "execution_count": 35,
   "metadata": {},
   "outputs": [
    {
     "name": "stdout",
     "output_type": "stream",
     "text": [
      "[ 2  3  5  7 11 13 17 19 23 29 31 37 41 43 47 53 59 61 67]\n"
     ]
    }
   ],
   "source": [
    "primos=crivo2(primos)\n",
    "print(primos)"
   ]
  },
  {
   "cell_type": "code",
   "execution_count": 4,
   "metadata": {},
   "outputs": [],
   "source": [
    "def solution2(n):\n",
    "    primos=np.array([2], dtype=np.int64)\n",
    "    while primos[-1]<np.sqrt(n):\n",
    "        p=primos[-1]\n",
    "        while n%p==0:\n",
    "            n=n//p\n",
    "        if n==1:\n",
    "            return p\n",
    "        primos=crivo2(primos)\n",
    "    return n"
   ]
  },
  {
   "cell_type": "code",
   "execution_count": 5,
   "metadata": {},
   "outputs": [
    {
     "data": {
      "text/plain": [
       "6857"
      ]
     },
     "execution_count": 5,
     "metadata": {},
     "output_type": "execute_result"
    }
   ],
   "source": [
    "solution2(600851475143)"
   ]
  }
 ],
 "metadata": {
  "kernelspec": {
   "display_name": "Python 3.8.10 64-bit",
   "language": "python",
   "name": "python3"
  },
  "language_info": {
   "codemirror_mode": {
    "name": "ipython",
    "version": 3
   },
   "file_extension": ".py",
   "mimetype": "text/x-python",
   "name": "python",
   "nbconvert_exporter": "python",
   "pygments_lexer": "ipython3",
   "version": "3.8.10"
  },
  "orig_nbformat": 4,
  "vscode": {
   "interpreter": {
    "hash": "31f2aee4e71d21fbe5cf8b01ff0e069b9275f58929596ceb00d14d90e3e16cd6"
   }
  }
 },
 "nbformat": 4,
 "nbformat_minor": 2
}
